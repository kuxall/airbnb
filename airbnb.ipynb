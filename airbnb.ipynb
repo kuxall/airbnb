{
  "nbformat": 4,
  "nbformat_minor": 0,
  "metadata": {
    "colab": {
      "provenance": []
    },
    "kernelspec": {
      "name": "python3",
      "display_name": "Python 3"
    },
    "language_info": {
      "name": "python"
    },
    "gpuClass": "standard"
  },
  "cells": [
    {
      "cell_type": "code",
      "source": [
        "from bs4 import BeautifulSoup\n",
        "import requests"
      ],
      "metadata": {
        "id": "IMpgXLLisWJj"
      },
      "execution_count": null,
      "outputs": []
    },
    {
      "cell_type": "code",
      "execution_count": null,
      "metadata": {
        "id": "riCpwUPDrwwR"
      },
      "outputs": [],
      "source": [
        "airbnb_url = \"https://www.airbnb.com/s/Texas/homes?query=Dallas%2C%20TX&place_id=ChIJS5dFe_cZTIYRj2dH9qSb7Lk&refinement_paths%5B%5D=%2Fhomes&tab_id=home_tab&date_picker_type=flexible_dates&checkin=2022-12-13&checkout=2022-12-14&flexible_trip_lengths%5B%5D=weekend_trip&adults=4&source=structured_search_input_header&search_type=autocomplete_click\"\n",
        "# "
      ]
    },
    {
      "cell_type": "code",
      "source": [
        "soup = BeautifulSoup(requests.get(airbnb_url).content, 'html.parser')"
      ],
      "metadata": {
        "id": "bBPgFvrysHNI"
      },
      "execution_count": null,
      "outputs": []
    },
    {
      "cell_type": "code",
      "source": [
        "# print(soup.prettify())"
      ],
      "metadata": {
        "id": "kO8o0I_PsUJQ"
      },
      "execution_count": null,
      "outputs": []
    },
    {
      "cell_type": "code",
      "source": [
        "# soup.find_all('div', 'c4mnd7m')"
      ],
      "metadata": {
        "id": "gE9lU93Wso1j"
      },
      "execution_count": null,
      "outputs": []
    },
    {
      "cell_type": "code",
      "source": [
        "listings = soup.find_all('div', 'cy5jw6o')"
      ],
      "metadata": {
        "id": "Dd0DM-Wit027"
      },
      "execution_count": null,
      "outputs": []
    },
    {
      "cell_type": "code",
      "source": [
        "len(listings)"
      ],
      "metadata": {
        "colab": {
          "base_uri": "https://localhost:8080/"
        },
        "id": "6bUVgH3kwFuB",
        "outputId": "3122a300-31cc-4c69-e84d-afe027bb7977"
      },
      "execution_count": null,
      "outputs": [
        {
          "output_type": "execute_result",
          "data": {
            "text/plain": [
              "20"
            ]
          },
          "metadata": {},
          "execution_count": 44
        }
      ]
    },
    {
      "cell_type": "code",
      "source": [],
      "metadata": {
        "id": "b8IozIadxnFH"
      },
      "execution_count": null,
      "outputs": []
    },
    {
      "cell_type": "code",
      "source": [
        "listings[0].find_all('a')[0].get('href')"
      ],
      "metadata": {
        "colab": {
          "base_uri": "https://localhost:8080/",
          "height": 53
        },
        "id": "PTuB5TYDwU37",
        "outputId": "050f1def-723a-4476-f9a9-bfe66fb74856"
      },
      "execution_count": null,
      "outputs": [
        {
          "output_type": "execute_result",
          "data": {
            "text/plain": [
              "'/rooms/755882682677662928?adults=4&children=0&infants=0&pets=0&check_in=2023-02-03&check_out=2023-02-05&previous_page_section_name=1000'"
            ],
            "application/vnd.google.colaboratory.intrinsic+json": {
              "type": "string"
            }
          },
          "metadata": {},
          "execution_count": 45
        }
      ]
    },
    {
      "cell_type": "code",
      "source": [
        "listings[0].get_text()"
      ],
      "metadata": {
        "colab": {
          "base_uri": "https://localhost:8080/",
          "height": 53
        },
        "id": "iWHdyslixs_9",
        "outputId": "613e819f-1a00-43b4-938f-397ccad34e2d"
      },
      "execution_count": null,
      "outputs": [
        {
          "output_type": "execute_result",
          "data": {
            "text/plain": [
              "'Townhouse in South DallasKAI Aayan Modern 4 story home w/ downtown views4 beds,  · 3 bedroomsFeb 3 – 5$300\\xa0night$300 per night5.0 (14)Superhost'"
            ],
            "application/vnd.google.colaboratory.intrinsic+json": {
              "type": "string"
            }
          },
          "metadata": {},
          "execution_count": 46
        }
      ]
    },
    {
      "cell_type": "code",
      "source": [
        "def extract_basic_features(listing_html):\n",
        "  features_dict = {}\n",
        "\n",
        "  url = listing_html.find('a').get('href')\n",
        "  name = listing_html.find('span', {'class': 't6mzqp7 dir dir-ltr'}).get_text()\n",
        "  header = listing_html.find('div', {'class': 't1jojoys dir dir-ltr'}).get_text()\n",
        "  beds = listing_html.find('span', {'class': ' dir dir-ltr'}).get_text()\n",
        "  # rate = listing_html.select(\"#site-content > div > div > div > div > div > div > div > div._1q3q5c4 > div > div._y9ev9r > div > div:nth-child(2) > div > div > div > div > div > div:nth-child(1) > div > div.c1l1h97y.dir.dir-ltr > div > div > div > div.cy5jw6o.dir.dir-ltr > div > div.g1qv1ctd.cb4nyux.dir.dir-ltr > div.phbjkf1.dir.dir-ltr > div\")\n",
        "  rating = listing_html.find('span', {'class': 'r1dxllyb dir dir-ltr'}).get_text()\n",
        "  price = listing_html.find('div', {'class': '_1jo4hgw'}).get_text()\n",
        "  # time = listing_html.find('span', {'class': ' dir dir-ltr'}).get_text()\n",
        "\n",
        "\n",
        "  features_dict['url'] = url\n",
        "  features_dict['header'] = header\n",
        "  features_dict['name'] = name\n",
        "  features_dict['number of beds'] = beds\n",
        "  features_dict['rate'] = rating\n",
        "  features_dict['price'] = price\n",
        "  # features_dict['time'] = time\n",
        "  \n",
        "\n",
        "\n",
        "  \n",
        "\n",
        "  return features_dict\n"
      ],
      "metadata": {
        "id": "1psu4Zukxxnm"
      },
      "execution_count": null,
      "outputs": []
    },
    {
      "cell_type": "code",
      "source": [
        "extract_basic_features(listings[0])"
      ],
      "metadata": {
        "colab": {
          "base_uri": "https://localhost:8080/"
        },
        "id": "DfpxXoCoANZw",
        "outputId": "5d8fe678-f549-4772-e870-6226c6fad379"
      },
      "execution_count": null,
      "outputs": [
        {
          "output_type": "execute_result",
          "data": {
            "text/plain": [
              "{'url': '/rooms/755882682677662928?adults=4&children=0&infants=0&pets=0&check_in=2023-02-03&check_out=2023-02-05&previous_page_section_name=1000',\n",
              " 'header': 'Townhouse in South Dallas',\n",
              " 'name': 'KAI Aayan Modern 4 story home w/ downtown views',\n",
              " 'number of beds': '4 beds',\n",
              " 'rate': '5.0 (14)',\n",
              " 'price': '$300\\xa0night'}"
            ]
          },
          "metadata": {},
          "execution_count": 48
        }
      ]
    },
    {
      "cell_type": "code",
      "source": [
        "# listings[0].find('b').get_text()"
      ],
      "metadata": {
        "id": "GEJvF9tO1bjt"
      },
      "execution_count": null,
      "outputs": []
    },
    {
      "cell_type": "code",
      "source": [
        "\n",
        "# Second Generation :)\n",
        "def extract_basic_features(listing_html):\n",
        "    features_dict = {}\n",
        "    \n",
        "    try:\n",
        "        url = listing_html.find('a').get('href')\n",
        "    except:\n",
        "        url = 'empty'\n",
        "    try:\n",
        "      name = listing_html.find('span', {'class': 't6mzqp7 dir dir-ltr'}).get_text()\n",
        "    except:\n",
        "        name = 'empty'\n",
        "    try:\n",
        "        header = listing_html.find('div', {'class': 't1jojoys dir dir-ltr'}).get_text()\n",
        "    except:\n",
        "        header = 'empty'\n",
        "    try:\n",
        "        beds = listing_html.find('span', {'class': ' dir dir-ltr'}).get_text()\n",
        "    except:\n",
        "        beds = 'empty'\n",
        "    try:\n",
        "        rating = listing_html.find('span', {'class': 'r1dxllyb dir dir-ltr'}).get_text()\n",
        "    except:\n",
        "      rating = 'empty'\n",
        "    try:\n",
        "      price = listing_html.find('div', {'class': '_1jo4hgw'}).get_text()\n",
        "    except:\n",
        "      price = 'empty'\n",
        "\n",
        "    \n",
        "    features_dict['url'] = url\n",
        "    features_dict['name'] = name\n",
        "    features_dict['header'] = header\n",
        "    features_dict['beds'] = beds\n",
        "    features_dict['rating'] = rating\n",
        "    features_dict['price'] = price\n",
        "\n",
        "\n",
        "\n",
        "\n",
        "    \n",
        "    return features_dict"
      ],
      "metadata": {
        "id": "j8Nq3HFS-6NW"
      },
      "execution_count": null,
      "outputs": []
    },
    {
      "cell_type": "code",
      "source": [
        "extract_basic_features(listings[0])"
      ],
      "metadata": {
        "colab": {
          "base_uri": "https://localhost:8080/"
        },
        "id": "Sre2-e-D1XH2",
        "outputId": "577d1046-758c-43ac-d483-8a44fb1036f3"
      },
      "execution_count": null,
      "outputs": [
        {
          "output_type": "execute_result",
          "data": {
            "text/plain": [
              "{'url': '/rooms/755882682677662928?adults=4&children=0&infants=0&pets=0&check_in=2023-02-03&check_out=2023-02-05&previous_page_section_name=1000',\n",
              " 'name': 'KAI Aayan Modern 4 story home w/ downtown views',\n",
              " 'header': 'Townhouse in South Dallas',\n",
              " 'beds': '4 beds',\n",
              " 'rating': '5.0 (14)',\n",
              " 'price': '$300\\xa0night'}"
            ]
          },
          "metadata": {},
          "execution_count": 51
        }
      ]
    },
    {
      "cell_type": "code",
      "source": [
        "# listing_html.find('span', {'class': ' dir dir-ltr'}).get_text()\n",
        "RULES_SEARCH_PAGE = {\n",
        "    'url': {'tag': 'a', 'get': 'href'},\n",
        "    'name': {'tag': 'span', 'class': 't6mzqp7 dir dir-ltr'},\n",
        "    'header': {'tag': 'div', 'class': 't1jojoys dir dir-ltr'},\n",
        "    'beds': {'tag': 'span', 'class': 'dir dir-ltr'},\n",
        "    'rating': {'tag': 'span', 'class': 'r1dxllyb dir dir-ltr'},\n",
        "    'price': {'tag': 'div', 'class': '_1jo4hgw'},\n",
        "}\n"
      ],
      "metadata": {
        "id": "4UBGAnkmNqoD"
      },
      "execution_count": null,
      "outputs": []
    },
    {
      "cell_type": "code",
      "source": [
        "# Third Generation :)\n",
        "def extract_element(listing_html, params):\n",
        "    # 1. Find the right tag\n",
        "    if 'class' in params:\n",
        "        elements_found = listing_html.find_all(params['tag'], params['class'])\n",
        "    else:\n",
        "        elements_found = listing_html.find_all(params['tag'])\n",
        "\n",
        "    # 2. Extract the right element\n",
        "    tag_order = params.get('order', 0)\n",
        "    element = elements_found[tag_order]\n",
        "        \n",
        "    # 3. Get text\n",
        "    if 'get' in params:\n",
        "        output = element.get(params['get'])\n",
        "    else:\n",
        "        output = element.get_text()\n",
        "\n",
        "    return output"
      ],
      "metadata": {
        "id": "mG1hy-NVNqlk"
      },
      "execution_count": null,
      "outputs": []
    },
    {
      "cell_type": "code",
      "source": [
        "\n",
        "print(extract_element(listings[0], RULES_SEARCH_PAGE['name']))\n",
        "print(extract_element(listings[0], RULES_SEARCH_PAGE['url']))"
      ],
      "metadata": {
        "colab": {
          "base_uri": "https://localhost:8080/"
        },
        "id": "aKH-CbJeNqix",
        "outputId": "7445368a-ee2a-41e1-c9fe-0939df073775"
      },
      "execution_count": null,
      "outputs": [
        {
          "output_type": "stream",
          "name": "stdout",
          "text": [
            "KAI Aayan Modern 4 story home w/ downtown views\n",
            "/rooms/755882682677662928?adults=4&children=0&infants=0&pets=0&check_in=2023-02-03&check_out=2023-02-05&previous_page_section_name=1000\n"
          ]
        }
      ]
    },
    {
      "cell_type": "code",
      "source": [
        "\n",
        "# for feature in RULES_SEARCH_PAGE:\n",
        "#   print(f\"{feature}: {extract_element(listings[0], RULES_SEARCH_PAGE[feature])}\")\n",
        "\n",
        "\n"
      ],
      "metadata": {
        "id": "WSK9ddaeOYAz"
      },
      "execution_count": null,
      "outputs": []
    },
    {
      "cell_type": "code",
      "source": [
        "\n",
        "for feature in RULES_SEARCH_PAGE:\n",
        "    try:\n",
        "        print(f\"{feature}: {extract_element(listings[0], RULES_SEARCH_PAGE[feature])}\")\n",
        "    except:\n",
        "        print(f\"{feature}: empty\")\n"
      ],
      "metadata": {
        "colab": {
          "base_uri": "https://localhost:8080/"
        },
        "id": "SdDnphV2OX-k",
        "outputId": "313464d0-02d6-425c-9a92-fbc7ca002452"
      },
      "execution_count": null,
      "outputs": [
        {
          "output_type": "stream",
          "name": "stdout",
          "text": [
            "url: /rooms/755882682677662928?adults=4&children=0&infants=0&pets=0&check_in=2023-02-03&check_out=2023-02-05&previous_page_section_name=1000\n",
            "name: KAI Aayan Modern 4 story home w/ downtown views\n",
            "header: Townhouse in South Dallas\n",
            "beds: empty\n",
            "rating: 5.0 (14)\n",
            "price: $300 night\n"
          ]
        }
      ]
    },
    {
      "cell_type": "code",
      "source": [
        "def get_listings(search_page):\n",
        "  soup = BeautifulSoup(requests.get(search_page).content, 'html.parser')\n",
        "  listings = soup.find_all('div', 'cy5jw6o')\n",
        "  return listings"
      ],
      "metadata": {
        "id": "_Kzut1E2_blj"
      },
      "execution_count": null,
      "outputs": []
    },
    {
      "cell_type": "code",
      "source": [
        "len(get_listings(airbnb_url))"
      ],
      "metadata": {
        "colab": {
          "base_uri": "https://localhost:8080/"
        },
        "id": "5hfMcMfuKcfr",
        "outputId": "7112dbba-c19d-423c-adbc-459a25c57e90"
      },
      "execution_count": null,
      "outputs": [
        {
          "output_type": "execute_result",
          "data": {
            "text/plain": [
              "20"
            ]
          },
          "metadata": {},
          "execution_count": 58
        }
      ]
    },
    {
      "cell_type": "code",
      "source": [
        "new_url = airbnb_url + '&items_offset=20'\n",
        "len(get_listings(new_url))"
      ],
      "metadata": {
        "colab": {
          "base_uri": "https://localhost:8080/"
        },
        "id": "2Iq8e781M2zL",
        "outputId": "be7247ec-41e3-4eeb-c372-f676dd6fd650"
      },
      "execution_count": null,
      "outputs": [
        {
          "output_type": "execute_result",
          "data": {
            "text/plain": [
              "20"
            ]
          },
          "metadata": {},
          "execution_count": 59
        }
      ]
    },
    {
      "cell_type": "code",
      "source": [
        "print(extract_element(get_listings(airbnb_url)[0], RULES_SEARCH_PAGE['name']))\n",
        "print(extract_element(get_listings(new_url)[0], RULES_SEARCH_PAGE['name']))\n",
        "\n"
      ],
      "metadata": {
        "colab": {
          "base_uri": "https://localhost:8080/"
        },
        "id": "97dojes1NDas",
        "outputId": "90d9805b-8133-465d-f2e2-f2ab0d57e9f1"
      },
      "execution_count": null,
      "outputs": [
        {
          "output_type": "stream",
          "name": "stdout",
          "text": [
            "KAI Aayan Modern 4 story home w/ downtown views\n",
            "Cheerful M-Streets 3 Bedroom House!\n"
          ]
        }
      ]
    },
    {
      "cell_type": "code",
      "source": [
        "all_listings = []\n",
        "for i in range(15):\n",
        "    offset = 20 * i\n",
        "    new_url = airbnb_url + f'&items_offset={offset}'\n",
        "    new_listings = get_listings(new_url)\n",
        "    all_listings.extend(new_listings)\n",
        "    \n",
        "    # let's check if it's scraping\n",
        "    print(len(all_listings))\n"
      ],
      "metadata": {
        "colab": {
          "base_uri": "https://localhost:8080/"
        },
        "id": "a70UqP0uNXKV",
        "outputId": "819d995b-818f-4f8d-806a-d084fc1bf9bd"
      },
      "execution_count": null,
      "outputs": [
        {
          "output_type": "stream",
          "name": "stdout",
          "text": [
            "20\n",
            "40\n",
            "60\n",
            "80\n",
            "100\n",
            "120\n",
            "140\n",
            "160\n",
            "180\n",
            "200\n",
            "220\n",
            "240\n",
            "260\n",
            "280\n",
            "300\n"
          ]
        }
      ]
    },
    {
      "cell_type": "code",
      "source": [
        "import time\n",
        "\n",
        "all_listings = []\n",
        "for i in range(15):\n",
        "    offset = 20 * i\n",
        "    new_url = airbnb_url + f'&items_offset={offset}&section_offset=3'\n",
        "    new_listings = get_listings(new_url)\n",
        "    all_listings.extend(new_listings)\n",
        "    \n",
        "    # let's check if it's scraping\n",
        "    print(len(all_listings))\n",
        "\n",
        "    time.sleep(2)\n",
        "\n"
      ],
      "metadata": {
        "colab": {
          "base_uri": "https://localhost:8080/"
        },
        "id": "-etpqN0nQB_A",
        "outputId": "cb136b92-e2b4-40ec-8143-f41fb819f027"
      },
      "execution_count": null,
      "outputs": [
        {
          "output_type": "stream",
          "name": "stdout",
          "text": [
            "20\n",
            "40\n",
            "60\n",
            "80\n",
            "100\n",
            "120\n",
            "140\n",
            "160\n",
            "180\n",
            "200\n",
            "220\n",
            "240\n",
            "260\n",
            "280\n",
            "300\n"
          ]
        }
      ]
    },
    {
      "cell_type": "code",
      "source": [
        "print(extract_element(all_listings[113], RULES_SEARCH_PAGE['name']))\n"
      ],
      "metadata": {
        "colab": {
          "base_uri": "https://localhost:8080/"
        },
        "id": "Dofv3JRhQMg2",
        "outputId": "7521b51f-cf44-499b-92a7-44c077a74e7e"
      },
      "execution_count": null,
      "outputs": [
        {
          "output_type": "stream",
          "name": "stdout",
          "text": [
            "Luxury Stay 2 Bed, 2 Bath Apartment\n"
          ]
        }
      ]
    },
    {
      "cell_type": "code",
      "source": [
        "def build_urls(main_url, listings_per_page=20, pages_per_location=15):\n",
        "    url_list = []\n",
        "    for i in range(pages_per_location):\n",
        "        offset = listings_per_page * i\n",
        "        url_pagination = main_url + f'&items_offset={offset}'\n",
        "        url_list.append(url_pagination)\n",
        "    \n",
        "    return url_list\n"
      ],
      "metadata": {
        "id": "bXOnUDTnQY_A"
      },
      "execution_count": null,
      "outputs": []
    },
    {
      "cell_type": "code",
      "source": [
        "              # safe function to extract all features from one page\n",
        "def extract_page_features(soup, rules):\n",
        "    features_dict = {}\n",
        "    for feature in rules:\n",
        "        try:\n",
        "            features_dict[feature] = extract_element(soup, rules[feature])\n",
        "        except:\n",
        "            features_dict[feature] = 'empty'\n",
        "    \n",
        "    return features_dict"
      ],
      "metadata": {
        "id": "t_P2q9pJQZne"
      },
      "execution_count": null,
      "outputs": []
    },
    {
      "cell_type": "code",
      "source": [],
      "metadata": {
        "id": "xUBBded2qW4v"
      },
      "execution_count": null,
      "outputs": []
    },
    {
      "cell_type": "code",
      "source": [],
      "metadata": {
        "id": "YtUgk80TqW0r"
      },
      "execution_count": null,
      "outputs": []
    },
    {
      "cell_type": "code",
      "source": [],
      "metadata": {
        "id": "baqJveLJqWr4"
      },
      "execution_count": null,
      "outputs": []
    },
    {
      "cell_type": "code",
      "source": [
        "# 2. Iteratively scrape pages\n",
        "def process_search_pages(url_list):\n",
        "    features_list = []\n",
        "    for page in url_list:\n",
        "        listings = get_listings(page)\n",
        "        for listing in listings:\n",
        "            features = extract_page_features(listing, RULES_SEARCH_PAGE)\n",
        "            features_list.append(features)\n",
        "    return features_list"
      ],
      "metadata": {
        "id": "QFSUYoSDQc3J"
      },
      "execution_count": null,
      "outputs": []
    },
    {
      "cell_type": "code",
      "source": [
        "url_list = build_urls(airbnb_url)\n"
      ],
      "metadata": {
        "id": "8mz-WYxwQjv8"
      },
      "execution_count": null,
      "outputs": []
    },
    {
      "cell_type": "code",
      "source": [
        "url_list\n"
      ],
      "metadata": {
        "colab": {
          "base_uri": "https://localhost:8080/"
        },
        "id": "X9pflfXWQnkR",
        "outputId": "7c21b406-a390-4518-9d93-485b05a58a1d"
      },
      "execution_count": null,
      "outputs": [
        {
          "output_type": "execute_result",
          "data": {
            "text/plain": [
              "['https://www.airbnb.com/s/Texas/homes?query=Dallas%2C%20TX&place_id=ChIJS5dFe_cZTIYRj2dH9qSb7Lk&refinement_paths%5B%5D=%2Fhomes&tab_id=home_tab&date_picker_type=flexible_dates&checkin=2022-12-13&checkout=2022-12-14&flexible_trip_lengths%5B%5D=weekend_trip&adults=4&source=structured_search_input_header&search_type=autocomplete_click&items_offset=0',\n",
              " 'https://www.airbnb.com/s/Texas/homes?query=Dallas%2C%20TX&place_id=ChIJS5dFe_cZTIYRj2dH9qSb7Lk&refinement_paths%5B%5D=%2Fhomes&tab_id=home_tab&date_picker_type=flexible_dates&checkin=2022-12-13&checkout=2022-12-14&flexible_trip_lengths%5B%5D=weekend_trip&adults=4&source=structured_search_input_header&search_type=autocomplete_click&items_offset=20',\n",
              " 'https://www.airbnb.com/s/Texas/homes?query=Dallas%2C%20TX&place_id=ChIJS5dFe_cZTIYRj2dH9qSb7Lk&refinement_paths%5B%5D=%2Fhomes&tab_id=home_tab&date_picker_type=flexible_dates&checkin=2022-12-13&checkout=2022-12-14&flexible_trip_lengths%5B%5D=weekend_trip&adults=4&source=structured_search_input_header&search_type=autocomplete_click&items_offset=40',\n",
              " 'https://www.airbnb.com/s/Texas/homes?query=Dallas%2C%20TX&place_id=ChIJS5dFe_cZTIYRj2dH9qSb7Lk&refinement_paths%5B%5D=%2Fhomes&tab_id=home_tab&date_picker_type=flexible_dates&checkin=2022-12-13&checkout=2022-12-14&flexible_trip_lengths%5B%5D=weekend_trip&adults=4&source=structured_search_input_header&search_type=autocomplete_click&items_offset=60',\n",
              " 'https://www.airbnb.com/s/Texas/homes?query=Dallas%2C%20TX&place_id=ChIJS5dFe_cZTIYRj2dH9qSb7Lk&refinement_paths%5B%5D=%2Fhomes&tab_id=home_tab&date_picker_type=flexible_dates&checkin=2022-12-13&checkout=2022-12-14&flexible_trip_lengths%5B%5D=weekend_trip&adults=4&source=structured_search_input_header&search_type=autocomplete_click&items_offset=80',\n",
              " 'https://www.airbnb.com/s/Texas/homes?query=Dallas%2C%20TX&place_id=ChIJS5dFe_cZTIYRj2dH9qSb7Lk&refinement_paths%5B%5D=%2Fhomes&tab_id=home_tab&date_picker_type=flexible_dates&checkin=2022-12-13&checkout=2022-12-14&flexible_trip_lengths%5B%5D=weekend_trip&adults=4&source=structured_search_input_header&search_type=autocomplete_click&items_offset=100',\n",
              " 'https://www.airbnb.com/s/Texas/homes?query=Dallas%2C%20TX&place_id=ChIJS5dFe_cZTIYRj2dH9qSb7Lk&refinement_paths%5B%5D=%2Fhomes&tab_id=home_tab&date_picker_type=flexible_dates&checkin=2022-12-13&checkout=2022-12-14&flexible_trip_lengths%5B%5D=weekend_trip&adults=4&source=structured_search_input_header&search_type=autocomplete_click&items_offset=120',\n",
              " 'https://www.airbnb.com/s/Texas/homes?query=Dallas%2C%20TX&place_id=ChIJS5dFe_cZTIYRj2dH9qSb7Lk&refinement_paths%5B%5D=%2Fhomes&tab_id=home_tab&date_picker_type=flexible_dates&checkin=2022-12-13&checkout=2022-12-14&flexible_trip_lengths%5B%5D=weekend_trip&adults=4&source=structured_search_input_header&search_type=autocomplete_click&items_offset=140',\n",
              " 'https://www.airbnb.com/s/Texas/homes?query=Dallas%2C%20TX&place_id=ChIJS5dFe_cZTIYRj2dH9qSb7Lk&refinement_paths%5B%5D=%2Fhomes&tab_id=home_tab&date_picker_type=flexible_dates&checkin=2022-12-13&checkout=2022-12-14&flexible_trip_lengths%5B%5D=weekend_trip&adults=4&source=structured_search_input_header&search_type=autocomplete_click&items_offset=160',\n",
              " 'https://www.airbnb.com/s/Texas/homes?query=Dallas%2C%20TX&place_id=ChIJS5dFe_cZTIYRj2dH9qSb7Lk&refinement_paths%5B%5D=%2Fhomes&tab_id=home_tab&date_picker_type=flexible_dates&checkin=2022-12-13&checkout=2022-12-14&flexible_trip_lengths%5B%5D=weekend_trip&adults=4&source=structured_search_input_header&search_type=autocomplete_click&items_offset=180',\n",
              " 'https://www.airbnb.com/s/Texas/homes?query=Dallas%2C%20TX&place_id=ChIJS5dFe_cZTIYRj2dH9qSb7Lk&refinement_paths%5B%5D=%2Fhomes&tab_id=home_tab&date_picker_type=flexible_dates&checkin=2022-12-13&checkout=2022-12-14&flexible_trip_lengths%5B%5D=weekend_trip&adults=4&source=structured_search_input_header&search_type=autocomplete_click&items_offset=200',\n",
              " 'https://www.airbnb.com/s/Texas/homes?query=Dallas%2C%20TX&place_id=ChIJS5dFe_cZTIYRj2dH9qSb7Lk&refinement_paths%5B%5D=%2Fhomes&tab_id=home_tab&date_picker_type=flexible_dates&checkin=2022-12-13&checkout=2022-12-14&flexible_trip_lengths%5B%5D=weekend_trip&adults=4&source=structured_search_input_header&search_type=autocomplete_click&items_offset=220',\n",
              " 'https://www.airbnb.com/s/Texas/homes?query=Dallas%2C%20TX&place_id=ChIJS5dFe_cZTIYRj2dH9qSb7Lk&refinement_paths%5B%5D=%2Fhomes&tab_id=home_tab&date_picker_type=flexible_dates&checkin=2022-12-13&checkout=2022-12-14&flexible_trip_lengths%5B%5D=weekend_trip&adults=4&source=structured_search_input_header&search_type=autocomplete_click&items_offset=240',\n",
              " 'https://www.airbnb.com/s/Texas/homes?query=Dallas%2C%20TX&place_id=ChIJS5dFe_cZTIYRj2dH9qSb7Lk&refinement_paths%5B%5D=%2Fhomes&tab_id=home_tab&date_picker_type=flexible_dates&checkin=2022-12-13&checkout=2022-12-14&flexible_trip_lengths%5B%5D=weekend_trip&adults=4&source=structured_search_input_header&search_type=autocomplete_click&items_offset=260',\n",
              " 'https://www.airbnb.com/s/Texas/homes?query=Dallas%2C%20TX&place_id=ChIJS5dFe_cZTIYRj2dH9qSb7Lk&refinement_paths%5B%5D=%2Fhomes&tab_id=home_tab&date_picker_type=flexible_dates&checkin=2022-12-13&checkout=2022-12-14&flexible_trip_lengths%5B%5D=weekend_trip&adults=4&source=structured_search_input_header&search_type=autocomplete_click&items_offset=280']"
            ]
          },
          "metadata": {},
          "execution_count": 68
        }
      ]
    },
    {
      "cell_type": "code",
      "source": [
        "# try for one page\n",
        "base_features = process_search_pages(url_list[:1])\n"
      ],
      "metadata": {
        "id": "9jG0B6hJQrhG"
      },
      "execution_count": null,
      "outputs": []
    },
    {
      "cell_type": "code",
      "source": [
        "base_features"
      ],
      "metadata": {
        "colab": {
          "base_uri": "https://localhost:8080/"
        },
        "id": "dsRGz5dAQxHc",
        "outputId": "c9286977-e930-40bd-9ced-b6429954d35b"
      },
      "execution_count": null,
      "outputs": [
        {
          "output_type": "execute_result",
          "data": {
            "text/plain": [
              "[{'url': '/rooms/755882682677662928?adults=4&children=0&infants=0&pets=0&check_in=2023-02-03&check_out=2023-02-05&previous_page_section_name=1000',\n",
              "  'name': 'KAI Aayan Modern 4 story home w/ downtown views',\n",
              "  'header': 'Townhouse in Dallas',\n",
              "  'beds': 'empty',\n",
              "  'rating': '5.0 (14)',\n",
              "  'price': '$300\\xa0night'},\n",
              " {'url': '/rooms/49639821?adults=4&children=0&infants=0&pets=0&check_in=2022-12-16&check_out=2022-12-18&previous_page_section_name=1000',\n",
              "  'name': '2 BR | 2 Bath | Downtown | Free Valet Parking | 4',\n",
              "  'header': 'Apartment in Dallas',\n",
              "  'beds': 'empty',\n",
              "  'rating': '4.52 (75)',\n",
              "  'price': '$131\\xa0night'},\n",
              " {'url': '/rooms/50008346?adults=4&children=0&infants=0&pets=0&check_in=2022-12-23&check_out=2022-12-25&previous_page_section_name=1000',\n",
              "  'name': 'Convention Center| Touchless 2bd DT Dallas',\n",
              "  'header': 'Apartment in Dallas',\n",
              "  'beds': 'empty',\n",
              "  'rating': '4.2 (10)',\n",
              "  'price': '$354\\xa0$112\\xa0night'},\n",
              " {'url': '/rooms/41373982?adults=4&children=0&infants=0&pets=0&check_in=2023-02-03&check_out=2023-02-05&previous_page_section_name=1000',\n",
              "  'name': '4 BR Spa/Pool Table/Firepit- Centrally Located',\n",
              "  'header': 'Home in Farmers Branch',\n",
              "  'beds': 'empty',\n",
              "  'rating': '4.91 (182)',\n",
              "  'price': '$225\\xa0night'},\n",
              " {'url': '/rooms/45801350?adults=4&children=0&infants=0&pets=0&check_in=2023-04-28&check_out=2023-04-30&previous_page_section_name=1000',\n",
              "  'name': 'The Swank, Arboretum Tickets Available',\n",
              "  'header': 'Apartment in Dallas',\n",
              "  'beds': 'empty',\n",
              "  'rating': '4.67 (211)',\n",
              "  'price': '$112\\xa0night'},\n",
              " {'url': '/rooms/15769743?adults=4&children=0&infants=0&pets=0&check_in=2022-12-16&check_out=2022-12-18&previous_page_section_name=1000',\n",
              "  'name': 'Private Rooftop w/Views of Downtown Dallas!',\n",
              "  'header': 'Townhouse in Dallas',\n",
              "  'beds': 'empty',\n",
              "  'rating': '4.75 (271)',\n",
              "  'price': '$318\\xa0$219\\xa0night'},\n",
              " {'url': '/rooms/46128147?adults=4&children=0&infants=0&pets=0&check_in=2022-12-16&check_out=2022-12-18&previous_page_section_name=1000',\n",
              "  'name': 'Spectacular new build  near downtown/uptown',\n",
              "  'header': 'Home in Dallas',\n",
              "  'beds': 'empty',\n",
              "  'rating': '4.97 (134)',\n",
              "  'price': '$325\\xa0$250\\xa0night'},\n",
              " {'url': '/rooms/737559852092599051?adults=4&children=0&infants=0&pets=0&check_in=2023-03-17&check_out=2023-03-19&previous_page_section_name=1000',\n",
              "  'name': 'Pop Art Arade Townhouse w/Rooftop Patio Theater',\n",
              "  'header': 'Townhouse in Dallas',\n",
              "  'beds': 'empty',\n",
              "  'rating': '5.0 (7)',\n",
              "  'price': '$256\\xa0night'},\n",
              " {'url': '/rooms/577479557515083243?adults=4&children=0&infants=0&pets=0&check_in=2022-12-23&check_out=2022-12-25&previous_page_section_name=1000',\n",
              "  'name': 'BRAND NEW ★ IG WORTHY, GIRLY PAD, W/ KARAOKE ROOM',\n",
              "  'header': 'Home in Dallas',\n",
              "  'beds': 'empty',\n",
              "  'rating': '4.98 (103)',\n",
              "  'price': '$810\\xa0night'},\n",
              " {'url': '/rooms/760191953590413302?adults=4&children=0&infants=0&pets=0&check_in=2022-12-16&check_out=2022-12-18&previous_page_section_name=1000',\n",
              "  'name': 'Stay at the ART HAUS! Located in Heart of Dallas!',\n",
              "  'header': 'Home in Dallas',\n",
              "  'beds': 'empty',\n",
              "  'rating': 'New',\n",
              "  'price': '$224\\xa0night'},\n",
              " {'url': '/rooms/708588841989607514?adults=4&children=0&infants=0&pets=0&check_in=2023-04-07&check_out=2023-04-09&previous_page_section_name=1000',\n",
              "  'name': 'Captivating City Getaway',\n",
              "  'header': 'Home in Dallas',\n",
              "  'beds': 'empty',\n",
              "  'rating': '4.69 (16)',\n",
              "  'price': '$184\\xa0night'},\n",
              " {'url': '/rooms/50046267?adults=4&children=0&infants=0&pets=0&check_in=2023-02-03&check_out=2023-02-05&previous_page_section_name=1000',\n",
              "  'name': 'Frontdesk | Bright and Spacious 2 BR Apt',\n",
              "  'header': 'Apartment in Dallas',\n",
              "  'beds': 'empty',\n",
              "  'rating': '4.68 (137)',\n",
              "  'price': '$209\\xa0$167\\xa0night'},\n",
              " {'url': '/rooms/26525206?adults=4&children=0&infants=0&pets=0&check_in=2022-12-23&check_out=2022-12-25&previous_page_section_name=1000',\n",
              "  'name': 'Convention Center - Contactless 3bd Downtown',\n",
              "  'header': 'Apartment in Dallas',\n",
              "  'beds': 'empty',\n",
              "  'rating': '4.78 (189)',\n",
              "  'price': '$712\\xa0$190\\xa0night'},\n",
              " {'url': '/rooms/42476380?adults=4&children=0&infants=0&pets=0&check_in=2022-12-16&check_out=2022-12-18&previous_page_section_name=1000',\n",
              "  'name': 'Downtown+Walking|GameHouse| Private Rooftop+Garage',\n",
              "  'header': 'Townhouse in Dallas',\n",
              "  'beds': 'empty',\n",
              "  'rating': '4.93 (206)',\n",
              "  'price': '$456\\xa0$258\\xa0night'},\n",
              " {'url': '/rooms/658627629563667086?adults=4&children=0&infants=0&pets=0&check_in=2022-12-16&check_out=2022-12-18&previous_page_section_name=1000',\n",
              "  'name': '4 Miles to Downtown | 4 Bedrooms | Sleeps 8!',\n",
              "  'header': 'Home in Dallas',\n",
              "  'beds': 'empty',\n",
              "  'rating': '4.92 (12)',\n",
              "  'price': '$427\\xa0$200\\xa0night'},\n",
              " {'url': '/rooms/664739519816393681?adults=4&children=0&infants=0&pets=0&check_in=2022-12-16&check_out=2022-12-18&previous_page_section_name=1000',\n",
              "  'name': '4 Miles to Downtown! | 8 Guests | Fire Pit',\n",
              "  'header': 'Home in Dallas',\n",
              "  'beds': 'empty',\n",
              "  'rating': '4.55 (20)',\n",
              "  'price': '$350\\xa0$200\\xa0night'},\n",
              " {'url': '/rooms/41107911?adults=4&children=0&infants=0&pets=0&check_in=2022-12-23&check_out=2022-12-25&previous_page_section_name=1000',\n",
              "  'name': 'Sonder at Butler Brothers | Two-Bedroom Apartment',\n",
              "  'header': 'Apartment in Dallas',\n",
              "  'beds': 'empty',\n",
              "  'rating': '4.42 (785)',\n",
              "  'price': '$189\\xa0night'},\n",
              " {'url': '/rooms/771015840957507356?adults=4&children=0&infants=0&pets=0&check_in=2022-12-16&check_out=2022-12-18&previous_page_section_name=1000',\n",
              "  'name': 'High-End Bishop Arts Getaway/3BR/King Bed',\n",
              "  'header': 'Home in Dallas',\n",
              "  'beds': 'empty',\n",
              "  'rating': 'New',\n",
              "  'price': '$151\\xa0$121\\xa0night'},\n",
              " {'url': '/rooms/51694765?adults=4&children=0&infants=0&pets=0&check_in=2023-02-03&check_out=2023-02-05&previous_page_section_name=1000',\n",
              "  'name': 'Stunning Penthouse I 5 min to DT Dallas I Pool,Gym,Theatre',\n",
              "  'header': 'Loft in Dallas',\n",
              "  'beds': 'empty',\n",
              "  'rating': '4.9 (71)',\n",
              "  'price': '$193\\xa0$164\\xa0night'},\n",
              " {'url': '/rooms/52910785?adults=4&children=0&infants=0&pets=0&check_in=2022-12-16&check_out=2022-12-18&previous_page_section_name=1000',\n",
              "  'name': '2BR 2BA Best Sky Pool in Dallas CozySuites',\n",
              "  'header': 'Apartment in Dallas',\n",
              "  'beds': 'empty',\n",
              "  'rating': '4.83 (18)',\n",
              "  'price': '$162\\xa0$118\\xa0night'}]"
            ]
          },
          "metadata": {},
          "execution_count": 70
        }
      ]
    },
    {
      "cell_type": "code",
      "source": [
        "type(base_features)"
      ],
      "metadata": {
        "colab": {
          "base_uri": "https://localhost:8080/"
        },
        "id": "D_AUWOyp50XD",
        "outputId": "b9ae32e3-ff17-491d-f0b9-1629c5dab4ad"
      },
      "execution_count": null,
      "outputs": [
        {
          "output_type": "execute_result",
          "data": {
            "text/plain": [
              "list"
            ]
          },
          "metadata": {},
          "execution_count": 71
        }
      ]
    },
    {
      "cell_type": "code",
      "source": [
        "import json\n",
        "json_string = json.dumps(base_features)\n"
      ],
      "metadata": {
        "id": "bdNv46Lr7dzs"
      },
      "execution_count": null,
      "outputs": []
    },
    {
      "cell_type": "code",
      "source": [
        "json_string"
      ],
      "metadata": {
        "colab": {
          "base_uri": "https://localhost:8080/",
          "height": 192
        },
        "id": "dL3RPFBB8UM-",
        "outputId": "33c3f898-f190-4e85-94dd-ac60f649ccc8"
      },
      "execution_count": null,
      "outputs": [
        {
          "output_type": "execute_result",
          "data": {
            "text/plain": [
              "'[{\"url\": \"/rooms/755882682677662928?adults=4&children=0&infants=0&pets=0&check_in=2023-02-03&check_out=2023-02-05&previous_page_section_name=1000\", \"name\": \"KAI Aayan Modern 4 story home w/ downtown views\", \"header\": \"Townhouse in Dallas\", \"beds\": \"empty\", \"rating\": \"5.0 (14)\", \"price\": \"$300\\\\u00a0night\"}, {\"url\": \"/rooms/49639821?adults=4&children=0&infants=0&pets=0&check_in=2022-12-16&check_out=2022-12-18&previous_page_section_name=1000\", \"name\": \"2 BR | 2 Bath | Downtown | Free Valet Parking | 4\", \"header\": \"Apartment in Dallas\", \"beds\": \"empty\", \"rating\": \"4.52 (75)\", \"price\": \"$131\\\\u00a0night\"}, {\"url\": \"/rooms/50008346?adults=4&children=0&infants=0&pets=0&check_in=2022-12-23&check_out=2022-12-25&previous_page_section_name=1000\", \"name\": \"Convention Center| Touchless 2bd DT Dallas\", \"header\": \"Apartment in Dallas\", \"beds\": \"empty\", \"rating\": \"4.2 (10)\", \"price\": \"$354\\\\u00a0$112\\\\u00a0night\"}, {\"url\": \"/rooms/41373982?adults=4&children=0&infants=0&pets=0&check_in=2023-02-03&check_out=2023-02-05&previous_page_section_name=1000\", \"name\": \"4 BR Spa/Pool Table/Firepit- Centrally Located\", \"header\": \"Home in Farmers Branch\", \"beds\": \"empty\", \"rating\": \"4.91 (182)\", \"price\": \"$225\\\\u00a0night\"}, {\"url\": \"/rooms/45801350?adults=4&children=0&infants=0&pets=0&check_in=2023-04-28&check_out=2023-04-30&previous_page_section_name=1000\", \"name\": \"The Swank, Arboretum Tickets Available\", \"header\": \"Apartment in Dallas\", \"beds\": \"empty\", \"rating\": \"4.67 (211)\", \"price\": \"$112\\\\u00a0night\"}, {\"url\": \"/rooms/15769743?adults=4&children=0&infants=0&pets=0&check_in=2022-12-16&check_out=2022-12-18&previous_page_section_name=1000\", \"name\": \"Private Rooftop w/Views of Downtown Dallas!\", \"header\": \"Townhouse in Dallas\", \"beds\": \"empty\", \"rating\": \"4.75 (271)\", \"price\": \"$318\\\\u00a0$219\\\\u00a0night\"}, {\"url\": \"/rooms/46128147?adults=4&children=0&infants=0&pets=0&check_in=2022-12-16&check_out=2022-12-18&previous_page_section_name=1000\", \"name\": \"Spectacular new build  near downtown/uptown\", \"header\": \"Home in Dallas\", \"beds\": \"empty\", \"rating\": \"4.97 (134)\", \"price\": \"$325\\\\u00a0$250\\\\u00a0night\"}, {\"url\": \"/rooms/737559852092599051?adults=4&children=0&infants=0&pets=0&check_in=2023-03-17&check_out=2023-03-19&previous_page_section_name=1000\", \"name\": \"Pop Art Arade Townhouse w/Rooftop Patio Theater\", \"header\": \"Townhouse in Dallas\", \"beds\": \"empty\", \"rating\": \"5.0 (7)\", \"price\": \"$256\\\\u00a0night\"}, {\"url\": \"/rooms/577479557515083243?adults=4&children=0&infants=0&pets=0&check_in=2022-12-23&check_out=2022-12-25&previous_page_section_name=1000\", \"name\": \"BRAND NEW \\\\u2605 IG WORTHY, GIRLY PAD, W/ KARAOKE ROOM\", \"header\": \"Home in Dallas\", \"beds\": \"empty\", \"rating\": \"4.98 (103)\", \"price\": \"$810\\\\u00a0night\"}, {\"url\": \"/rooms/760191953590413302?adults=4&children=0&infants=0&pets=0&check_in=2022-12-16&check_out=2022-12-18&previous_page_section_name=1000\", \"name\": \"Stay at the ART HAUS! Located in Heart of Dallas!\", \"header\": \"Home in Dallas\", \"beds\": \"empty\", \"rating\": \"New\", \"price\": \"$224\\\\u00a0night\"}, {\"url\": \"/rooms/708588841989607514?adults=4&children=0&infants=0&pets=0&check_in=2023-04-07&check_out=2023-04-09&previous_page_section_name=1000\", \"name\": \"Captivating City Getaway\", \"header\": \"Home in Dallas\", \"beds\": \"empty\", \"rating\": \"4.69 (16)\", \"price\": \"$184\\\\u00a0night\"}, {\"url\": \"/rooms/50046267?adults=4&children=0&infants=0&pets=0&check_in=2023-02-03&check_out=2023-02-05&previous_page_section_name=1000\", \"name\": \"Frontdesk | Bright and Spacious 2 BR Apt\", \"header\": \"Apartment in Dallas\", \"beds\": \"empty\", \"rating\": \"4.68 (137)\", \"price\": \"$209\\\\u00a0$167\\\\u00a0night\"}, {\"url\": \"/rooms/26525206?adults=4&children=0&infants=0&pets=0&check_in=2022-12-23&check_out=2022-12-25&previous_page_section_name=1000\", \"name\": \"Convention Center - Contactless 3bd Downtown\", \"header\": \"Apartment in Dallas\", \"beds\": \"empty\", \"rating\": \"4.78 (189)\", \"price\": \"$712\\\\u00a0$190\\\\u00a0night\"}, {\"url\": \"/rooms/42476380?adults=4&children=0&infants=0&pets=0&check_in=2022-12-16&check_out=2022-12-18&previous_page_section_name=1000\", \"name\": \"Downtown+Walking|GameHouse| Private Rooftop+Garage\", \"header\": \"Townhouse in Dallas\", \"beds\": \"empty\", \"rating\": \"4.93 (206)\", \"price\": \"$456\\\\u00a0$258\\\\u00a0night\"}, {\"url\": \"/rooms/658627629563667086?adults=4&children=0&infants=0&pets=0&check_in=2022-12-16&check_out=2022-12-18&previous_page_section_name=1000\", \"name\": \"4 Miles to Downtown | 4 Bedrooms | Sleeps 8!\", \"header\": \"Home in Dallas\", \"beds\": \"empty\", \"rating\": \"4.92 (12)\", \"price\": \"$427\\\\u00a0$200\\\\u00a0night\"}, {\"url\": \"/rooms/664739519816393681?adults=4&children=0&infants=0&pets=0&check_in=2022-12-16&check_out=2022-12-18&previous_page_section_name=1000\", \"name\": \"4 Miles to Downtown! | 8 Guests | Fire Pit\", \"header\": \"Home in Dallas\", \"beds\": \"empty\", \"rating\": \"4.55 (20)\", \"price\": \"$350\\\\u00a0$200\\\\u00a0night\"}, {\"url\": \"/rooms/41107911?adults=4&children=0&infants=0&pets=0&check_in=2022-12-23&check_out=2022-12-25&previous_page_section_name=1000\", \"name\": \"Sonder at Butler Brothers | Two-Bedroom Apartment\", \"header\": \"Apartment in Dallas\", \"beds\": \"empty\", \"rating\": \"4.42 (785)\", \"price\": \"$189\\\\u00a0night\"}, {\"url\": \"/rooms/771015840957507356?adults=4&children=0&infants=0&pets=0&check_in=2022-12-16&check_out=2022-12-18&previous_page_section_name=1000\", \"name\": \"High-End Bishop Arts Getaway/3BR/King Bed\", \"header\": \"Home in Dallas\", \"beds\": \"empty\", \"rating\": \"New\", \"price\": \"$151\\\\u00a0$121\\\\u00a0night\"}, {\"url\": \"/rooms/51694765?adults=4&children=0&infants=0&pets=0&check_in=2023-02-03&check_out=2023-02-05&previous_page_section_name=1000\", \"name\": \"Stunning Penthouse I 5 min to DT Dallas I Pool,Gym,Theatre\", \"header\": \"Loft in Dallas\", \"beds\": \"empty\", \"rating\": \"4.9 (71)\", \"price\": \"$193\\\\u00a0$164\\\\u00a0night\"}, {\"url\": \"/rooms/52910785?adults=4&children=0&infants=0&pets=0&check_in=2022-12-16&check_out=2022-12-18&previous_page_section_name=1000\", \"name\": \"2BR 2BA Best Sky Pool in Dallas CozySuites\", \"header\": \"Apartment in Dallas\", \"beds\": \"empty\", \"rating\": \"4.83 (18)\", \"price\": \"$162\\\\u00a0$118\\\\u00a0night\"}]'"
            ],
            "application/vnd.google.colaboratory.intrinsic+json": {
              "type": "string"
            }
          },
          "metadata": {},
          "execution_count": 73
        }
      ]
    },
    {
      "cell_type": "code",
      "source": [
        "with open('airbnb3.json', 'w') as f:\n",
        "    f.write(json_string)\n",
        "\n"
      ],
      "metadata": {
        "id": "cxqjFDMi8WFt"
      },
      "execution_count": null,
      "outputs": []
    },
    {
      "cell_type": "code",
      "source": [],
      "metadata": {
        "id": "aQFkQ0h3888f"
      },
      "execution_count": null,
      "outputs": []
    },
    {
      "cell_type": "code",
      "source": [],
      "metadata": {
        "id": "435cfSxQCh9D"
      },
      "execution_count": null,
      "outputs": []
    }
  ]
}